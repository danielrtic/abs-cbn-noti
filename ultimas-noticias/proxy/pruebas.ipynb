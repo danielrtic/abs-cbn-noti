{
 "cells": [
  {
   "cell_type": "code",
   "execution_count": 9,
   "metadata": {},
   "outputs": [
    {
     "name": "stdout",
     "output_type": "stream",
     "text": [
      "[{'proxy_ip': '45.147.60.243', 'proxy_port': '29842', 'username': 'dredon', 'password': 'xD7w0cPQ', 'proxy_status': 'online'}]\n"
     ]
    },
    {
     "ename": "TypeError",
     "evalue": "list indices must be integers or slices, not str",
     "output_type": "error",
     "traceback": [
      "\u001b[0;31m---------------------------------------------------------------------------\u001b[0m",
      "\u001b[0;31mTypeError\u001b[0m                                 Traceback (most recent call last)",
      "Cell \u001b[0;32mIn[9], line 8\u001b[0m\n\u001b[1;32m      5\u001b[0m todos \u001b[39m=\u001b[39m json\u001b[39m.\u001b[39mloads(apiproxy\u001b[39m.\u001b[39mtext)\n\u001b[1;32m      7\u001b[0m \u001b[39mprint\u001b[39m(todos)\n\u001b[0;32m----> 8\u001b[0m \u001b[39mprint\u001b[39m(todos[\u001b[39m'\u001b[39;49m\u001b[39mproxy_ip\u001b[39;49m\u001b[39m'\u001b[39;49m])\n\u001b[1;32m     10\u001b[0m \u001b[39mprint\u001b[39m(servidor)\n",
      "\u001b[0;31mTypeError\u001b[0m: list indices must be integers or slices, not str"
     ]
    }
   ],
   "source": [
    "import requests\n",
    "import json\n",
    "\n",
    "apiproxy = requests.get(\"https://api.myprivateproxy.net/v1/fetchProxies/json/full/cu47s8oxdjivgf14to3ey2vywlk2o4u9\")\n",
    "todos = json.loads(apiproxy.text)\n",
    "\n",
    "print(todos)\n",
    "\n",
    "servidor = todos['proxy_ip']\n",
    "\n",
    "print(servidor)\n",
    "\n"
   ]
  }
 ],
 "metadata": {
  "kernelspec": {
   "display_name": "Python 3",
   "language": "python",
   "name": "python3"
  },
  "language_info": {
   "codemirror_mode": {
    "name": "ipython",
    "version": 3
   },
   "file_extension": ".py",
   "mimetype": "text/x-python",
   "name": "python",
   "nbconvert_exporter": "python",
   "pygments_lexer": "ipython3",
   "version": "3.10.6"
  },
  "orig_nbformat": 4
 },
 "nbformat": 4,
 "nbformat_minor": 2
}
